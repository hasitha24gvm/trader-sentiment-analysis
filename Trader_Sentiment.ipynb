{
  "nbformat": 4,
  "nbformat_minor": 0,
  "metadata": {
    "colab": {
      "provenance": []
    },
    "kernelspec": {
      "name": "python3",
      "display_name": "Python 3"
    },
    "language_info": {
      "name": "python"
    }
  },
  "cells": [
    {
      "cell_type": "code",
      "source": [
        "import os\n",
        "import pandas as pd\n",
        "import numpy as np\n",
        "import matplotlib.pyplot as plt"
      ],
      "metadata": {
        "id": "U2sXtQKk9G0o"
      },
      "execution_count": 2,
      "outputs": []
    },
    {
      "cell_type": "code",
      "source": [
        "os.makedirs(\"csv_files\", exist_ok=True)\n",
        "os.makedirs(\"outputs\", exist_ok=True)"
      ],
      "metadata": {
        "id": "hip76vjL9_Gk"
      },
      "execution_count": 3,
      "outputs": []
    },
    {
      "cell_type": "code",
      "source": [
        "sentiment_path = \"fear_greed_index.csv\"\n",
        "trades_path    = \"historical_data.csv\""
      ],
      "metadata": {
        "id": "twyeZ-mZ9_mN"
      },
      "execution_count": 4,
      "outputs": []
    },
    {
      "cell_type": "code",
      "source": [
        "sentiment_raw = pd.read_csv(sentiment_path)\n",
        "trades_raw    = pd.read_csv(trades_path)\n",
        "\n",
        "print(\"Sentiment columns:\", list(sentiment_raw.columns))\n",
        "print(\"Trades columns:\", list(trades_raw.columns))"
      ],
      "metadata": {
        "colab": {
          "base_uri": "https://localhost:8080/"
        },
        "id": "se6OXP-f-Erh",
        "outputId": "f8e9df3e-3e46-4a25-f4dc-ab080b556220"
      },
      "execution_count": 5,
      "outputs": [
        {
          "output_type": "stream",
          "name": "stdout",
          "text": [
            "Sentiment columns: ['timestamp', 'value', 'classification', 'date']\n",
            "Trades columns: ['Account', 'Coin', 'Execution Price', 'Size Tokens', 'Size USD', 'Side', 'Timestamp IST', 'Start Position', 'Direction', 'Closed PnL', 'Transaction Hash', 'Order ID', 'Crossed', 'Fee', 'Trade ID', 'Timestamp']\n"
          ]
        }
      ]
    },
    {
      "cell_type": "code",
      "source": [
        "sentiment = sentiment_raw.copy()"
      ],
      "metadata": {
        "id": "d2yG2gE1-JAv"
      },
      "execution_count": 6,
      "outputs": []
    },
    {
      "cell_type": "code",
      "source": [
        "if 'date' in sentiment.columns:\n",
        "    sentiment['sentiment_date'] = pd.to_datetime(sentiment['date'], errors='coerce')\n",
        "else:\n",
        "\n",
        "    if 'timestamp' in sentiment.columns:\n",
        "        ts = pd.to_numeric(sentiment['timestamp'], errors='coerce')\n",
        "        if ts.dropna().median() > 1e11:\n",
        "            sentiment['sentiment_date'] = pd.to_datetime(ts, unit='ms', errors='coerce')\n",
        "        else:\n",
        "            sentiment['sentiment_date'] = pd.to_datetime(ts, unit='s', errors='coerce')\n",
        "    else:\n",
        "        raise ValueError(\"Sentiment CSV must include either 'date' or 'timestamp'.\")"
      ],
      "metadata": {
        "id": "oA2yc6xX-MQn"
      },
      "execution_count": 7,
      "outputs": []
    },
    {
      "cell_type": "code",
      "source": [
        "sentiment['classification_norm'] = (\n",
        "    sentiment['classification']\n",
        "      .astype(str)\n",
        "      .str.strip()\n",
        "      .str.lower()\n",
        "      .replace({\n",
        "          'fear': 'fear',\n",
        "          'extreme fear': 'fear',\n",
        "          'greed': 'greed',\n",
        "          'extreme greed': 'greed'\n",
        "      })\n",
        ")\n",
        "\n",
        "sentiment['sentiment_flag'] = sentiment['classification_norm'].map({'fear': 0, 'greed': 1})"
      ],
      "metadata": {
        "id": "bPjZHvu9-Whe"
      },
      "execution_count": 8,
      "outputs": []
    },
    {
      "cell_type": "code",
      "source": [
        "sentiment_clean = sentiment[['sentiment_date', 'classification_norm', 'sentiment_flag', 'value']].rename(columns={'value': 'sentiment_value'})"
      ],
      "metadata": {
        "id": "gDbgvDT7X_xe"
      },
      "execution_count": 9,
      "outputs": []
    },
    {
      "cell_type": "code",
      "source": [
        "trades = trades_raw.copy()\n"
      ],
      "metadata": {
        "id": "95Bn0EBnYKta"
      },
      "execution_count": 10,
      "outputs": []
    },
    {
      "cell_type": "code",
      "source": [
        "trade_time = None\n",
        "if 'Timestamp IST' in trades.columns:\n",
        "    trade_time = pd.to_datetime(trades['Timestamp IST'], errors='coerce')\n",
        "else:\n",
        "    trade_time = pd.Series(pd.NaT, index=trades.index)\n",
        "\n",
        "if 'Timestamp' in trades.columns:\n",
        "    ts_num = pd.to_numeric(trades['Timestamp'], errors='coerce')\n",
        "    trade_time_epoch = pd.to_datetime(ts_num, unit='ms', errors='coerce')\n",
        "    trade_time = trade_time.fillna(trade_time_epoch)\n",
        "\n",
        "trades['trade_time'] = trade_time\n",
        "trades['trade_date'] = trades['trade_time'].dt.normalize()"
      ],
      "metadata": {
        "id": "u8l1gRzdYPGp"
      },
      "execution_count": 11,
      "outputs": []
    },
    {
      "cell_type": "code",
      "source": [
        "for col in ['Execution Price', 'Size Tokens', 'Size USD', 'Closed PnL', 'Fee', 'Start Position']:\n",
        "    if col in trades.columns:\n",
        "        trades[col] = pd.to_numeric(trades[col], errors='coerce')"
      ],
      "metadata": {
        "id": "Uql6jVBVYS2N"
      },
      "execution_count": 12,
      "outputs": []
    },
    {
      "cell_type": "code",
      "source": [
        "if 'Side' in trades.columns:\n",
        "    trades['side_raw'] = trades['Side'].astype(str).str.upper().str.strip()\n",
        "    trades['side_sign'] = trades['side_raw'].map({'BUY': 1, 'SELL': -1}).fillna(0)\n",
        "else:\n",
        "    trades['side_raw'] = np.nan\n",
        "    trades['side_sign'] = 0"
      ],
      "metadata": {
        "id": "8_hzKwXaYXXP"
      },
      "execution_count": 13,
      "outputs": []
    },
    {
      "cell_type": "code",
      "source": [
        "if 'Crossed' in trades.columns:\n",
        "    trades['crossed_flag'] = trades['Crossed'].astype(str).str.lower().map({'true': 1, 'false': 0})\n",
        "else:\n",
        "    trades['crossed_flag'] = np.nan"
      ],
      "metadata": {
        "id": "t41oqZnfYaVG"
      },
      "execution_count": 14,
      "outputs": []
    },
    {
      "cell_type": "code",
      "source": [
        "trades['notional_usd'] = trades.get('Size USD')\n",
        "if trades['notional_usd'].isna().all():\n",
        "    if ('Execution Price' in trades.columns) and ('Size Tokens' in trades.columns):\n",
        "        trades['notional_usd'] = trades['Execution Price'] * trades['Size Tokens']"
      ],
      "metadata": {
        "id": "7FtYTR_xYdTi"
      },
      "execution_count": 15,
      "outputs": []
    },
    {
      "cell_type": "code",
      "source": [
        "if 'Closed PnL' in trades.columns:\n",
        "    trades['pnl'] = trades['Closed PnL']\n",
        "    trades['profit_flag'] = (trades['pnl'] > 0).astype(int)\n",
        "else:\n",
        "    trades['pnl'] = np.nan\n",
        "    trades['profit_flag'] = np.nan"
      ],
      "metadata": {
        "id": "BReFXwtMYghD"
      },
      "execution_count": 16,
      "outputs": []
    },
    {
      "cell_type": "code",
      "source": [
        "sentiment_clean['sentiment_day'] = sentiment_clean['sentiment_date'].dt.normalize()\n",
        "merged = pd.merge(\n",
        "    trades,\n",
        "    sentiment_clean[['sentiment_day', 'classification_norm', 'sentiment_flag', 'sentiment_value']],\n",
        "    left_on='trade_date', right_on='sentiment_day', how='inner'\n",
        ")\n",
        "\n",
        "print(\"Merged shape:\", merged.shape)\n",
        "print(merged[['trade_time','Coin','Side','pnl','notional_usd','classification_norm','sentiment_flag']].head())"
      ],
      "metadata": {
        "colab": {
          "base_uri": "https://localhost:8080/"
        },
        "id": "ITL-bRM4YkD2",
        "outputId": "737a0e0c-12fc-40c4-945b-12ad376470ac"
      },
      "execution_count": 17,
      "outputs": [
        {
          "output_type": "stream",
          "name": "stdout",
          "text": [
            "Merged shape: (142132, 28)\n",
            "           trade_time  Coin Side  pnl  notional_usd classification_norm  \\\n",
            "0 2024-02-12 22:50:00  @107  BUY  0.0       7872.16               greed   \n",
            "1 2024-02-12 22:50:00  @107  BUY  0.0        127.68               greed   \n",
            "2 2024-02-12 22:50:00  @107  BUY  0.0       1150.63               greed   \n",
            "3 2024-02-12 22:50:00  @107  BUY  0.0       1142.04               greed   \n",
            "4 2024-02-12 22:50:00  @107  BUY  0.0         69.75               greed   \n",
            "\n",
            "   sentiment_flag  \n",
            "0             1.0  \n",
            "1             1.0  \n",
            "2             1.0  \n",
            "3             1.0  \n",
            "4             1.0  \n"
          ]
        }
      ]
    },
    {
      "cell_type": "code",
      "source": [],
      "metadata": {
        "id": "YhhuxABMYo5u"
      },
      "execution_count": null,
      "outputs": []
    }
  ]
}